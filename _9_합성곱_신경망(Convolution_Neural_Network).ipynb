{
  "nbformat": 4,
  "nbformat_minor": 0,
  "metadata": {
    "colab": {
      "name": "_9 합성곱 신경망(Convolution Neural Network).ipynb",
      "provenance": [],
      "collapsed_sections": [],
      "include_colab_link": true
    },
    "kernelspec": {
      "name": "python3",
      "display_name": "Python 3"
    },
    "accelerator": "GPU"
  },
  "cells": [
    {
      "cell_type": "markdown",
      "metadata": {
        "id": "view-in-github",
        "colab_type": "text"
      },
      "source": [
        "<a href=\"https://colab.research.google.com/github/silver96/study/blob/main/_9_%ED%95%A9%EC%84%B1%EA%B3%B1_%EC%8B%A0%EA%B2%BD%EB%A7%9D(Convolution_Neural_Network).ipynb\" target=\"_parent\"><img src=\"https://colab.research.google.com/assets/colab-badge.svg\" alt=\"Open In Colab\"/></a>"
      ]
    },
    {
      "cell_type": "markdown",
      "metadata": {
        "id": "86l7I5SQ_u9J"
      },
      "source": [
        "# 합성곱 신경망(Convolution Neural Network)\n",
        "\n",
        "- 이미지 인식, 음성 인식 등에 자주 사용되는데,  \n",
        "  특히, 이미지 인식 분야에서 거의 모든 딥러닝 기술에 사용\n",
        "\n",
        "<br>\n",
        "\n",
        "## 컨볼루션 신경망의 등장\n",
        "- 1989년 얀 르쿤(Yann LeCun) 교수의 논문에서 발표\n",
        "\n",
        "  - 필기체 인식에서 의미가 있었지만 범용화하는데에는 무리\n",
        "\n",
        "- 1998년, \"Gradient-Based Learning Applied to Document Recognition\"이라는 논문에서 LeNet-5 제시\n",
        "\n",
        "- 합성곱 층(convolution layer), 풀링 층(pooling layer) 소개\n",
        "  <br>\n",
        "\n",
        "  <img src=\"https://miro.medium.com/max/4308/1*1TI1aGBZ4dybR6__DI9dzA.png\">\n",
        "  \n",
        "  <center>[LeNet-5 구조]</center>\n",
        "\n",
        "  <sub>출처: https://medium.com/@pechyonkin/key-deep-learning-architectures-lenet-5-6fc3c59e6f4</sub>"
      ]
    },
    {
      "cell_type": "markdown",
      "metadata": {
        "id": "Y46evOQHNukF"
      },
      "source": [
        "## 컨볼루션 신경망 구조 예시\n",
        "\n",
        "<img src=\"https://www.oreilly.com/library/view/neural-network-projects/9781789138900/assets/c38754ca-f2ea-425a-b7a6-1fe0f2f5074e.png\" width=\"600\">\n",
        "\n",
        "<sub>출처: https://www.oreilly.com/library/view/neural-network-projects/9781789138900/8e87ad66-6de3-4275-81a4-62b54436bf16.xhtml</sub>\n",
        "\n"
      ]
    },
    {
      "cell_type": "markdown",
      "metadata": {
        "id": "Wtb8UWyTNxp_"
      },
      "source": [
        "## 합성곱 연산\n",
        "- 필터(filter) 연산\n",
        "  - 입력 데이터에 필터를 통한 어떠한 연산을 진행\n",
        "  \n",
        "  - **필터에 대응하는 원소끼리 곱하고, 그 합을 구함**\n",
        "\n",
        "  - 연산이 완료된 결과 데이터를 **특징 맵(feature map)**이라 부름\n",
        "\n",
        "- 필터(filter)\n",
        "  - 커널(kernel)이라고도 칭함\n",
        "  \n",
        "  - 흔히 사진 어플에서 사용하는 '이미지 필터'와 비슷한 개념\n",
        "\n",
        "  - 필터의 사이즈는 \"거의 항상 홀수\"\n",
        "    - 짝수이면 패딩이 비대칭이 되어버림\n",
        "  \n",
        "    - 왼쪽, 오른쪽을 다르게 주어야함\n",
        "  \n",
        "    - 중심위치가 존재, 즉 구별된 하나의 픽셀(중심 픽셀)이 존재\n",
        "\n",
        "  - 필터의 학습 파라미터 개수는 입력 데이터의 크기와 상관없이 일정  \n",
        "    따라서, 과적합을 방지할 수 있음\n",
        "\n",
        "  <br>\n",
        "  <img src=\"http://deeplearning.net/software/theano_versions/dev/_images/numerical_no_padding_no_strides.gif\">\n",
        "\n",
        "  <sub>출처: http://deeplearning.net/software/theano_versions/dev/tutorial/conv_arithmetic.html</sub>\n",
        "\n",
        "\n",
        "- 연산 시각화\n",
        "  <img src=\"https://www.researchgate.net/profile/Ihab_S_Mohamed/publication/324165524/figure/fig3/AS:611103423860736@1522709818959/An-example-of-convolution-operation-in-2D-2.png\" width=\"500\">\n",
        "\n",
        "  <sub>출처: https://www.researchgate.net/figure/An-example-of-convolution-operation-in-2D-2_fig3_324165524</sub>\n",
        "\n",
        "\n",
        "- 일반적으로, 합성곱 연산을 한 후의 데이터 사이즈는  \n",
        "  ### $\\quad (n-f+1) \\times (n-f+1)$\n",
        "    $n$: 입력 데이터의 크기  \n",
        "    $f$: 필터(커널)의 크기\n",
        "\n",
        "\n",
        "  <img src=\"https://miro.medium.com/max/1400/1*Fw-ehcNBR9byHtho-Rxbtw.gif\" width=\"400\">\n",
        "\n",
        "  <sub>출처: https://towardsdatascience.com/intuitively-understanding-convolutions-for-deep-learning-1f6f42faee1</sub>\n",
        "  \n",
        "  위 예에서 입력 데이터 크기($n$)는 5, 필터의 크기($k$)는 3이므로  \n",
        "  출력 데이터의 크기는 $(5 - 3 + 1) = 3$\n"
      ]
    },
    {
      "cell_type": "markdown",
      "metadata": {
        "id": "5-ekDsJwN2Y-"
      },
      "source": [
        "## 패딩(padding)과 스트라이드(stride)\n",
        "- 필터(커널) 사이즈과 함께 **입력 이미지와 출력 이미지의 사이즈를 결정**하기 위해 사용\n",
        "\n",
        "- 사용자가 결정할 수 있음\n"
      ]
    },
    {
      "cell_type": "markdown",
      "metadata": {
        "id": "alV1bgcjN4Kc"
      },
      "source": [
        "\n",
        "### 패딩\n",
        "- 입력 데이터의 주변을 특정 값으로 채우는 기법\n",
        "  - 주로 0으로 많이 채움\n",
        "\n",
        "  <img src=\"http://deeplearning.net/software/theano_versions/dev/_images/arbitrary_padding_no_strides.gif\" width=\"300\">\n",
        "\n",
        "- 출력 데이터의 크기\n",
        "  ### $\\quad (n+2p-f+1) \\times (n+2p-f+1)$\n",
        "\n",
        "  위 그림에서, 입력 데이터의 크기($n$)는 5, 필터의 크기($f$)는 4, 패딩값($p$)은 2이므로    \n",
        "  출력 데이터의 크기는 ($5 + 2\\times 2 - 4 + 1) = 6$\n",
        "\n",
        "### 'valid' 와 'same'\n",
        "- 'valid'\n",
        "  - 패딩을 주지 않음\n",
        "  - padding=0 (0으로 채워진 테두리가 아니라 패딩을 주지 않는다는 의미)\n",
        "\n",
        "- 'same'\n",
        "  - 패딩을 주어 입력 이미지의 크기와 연산 후의 이미지 크기를 같게함\n",
        "\n",
        "  - 만약, 필터(커널)의 크기가 $k$ 이면,  \n",
        "    패딩의 크기는 $p = \\frac{k-1}{2}$ (단, <u>stride=1)</u>"
      ]
    },
    {
      "cell_type": "markdown",
      "metadata": {
        "id": "zlZ7zG6ON85J"
      },
      "source": [
        "\n",
        "\n",
        "### 스트라이드\n",
        "- 필터를 적용하는 간격을 의미\n",
        "\n",
        "- 아래는 그림의 간격 2\n",
        "\n",
        "  <img src=\"http://deeplearning.net/software/theano_versions/dev/_images/no_padding_strides.gif\">\n"
      ]
    },
    {
      "cell_type": "markdown",
      "metadata": {
        "id": "LPcsND-0OCNm"
      },
      "source": [
        "## 출력 데이터의 크기\n",
        "\n",
        "## $\\qquad OH = \\frac{H + 2P - FH}{S} + 1 $ \n",
        "## $\\qquad OW = \\frac{W + 2P - FW}{S} + 1 $ \n",
        "\n",
        "- 입력 크기 : $(H, W)$\n",
        "\n",
        "- 필터 크기 : $(FH, FW)$\n",
        "\n",
        "- 출력 크기 : $(OH, OW)$\n",
        "\n",
        "- 패딩, 스트라이드 : $P, S$\n",
        "\n",
        "- (주의) \n",
        "  - 위 식의 값에서 $\\frac{H + 2P - FH}{S}$ 또는 $\\frac{W + 2P - FW}{S}$가 정수로 나누어 떨어지는 값이어야 함\n",
        "  - 만약, 정수로 나누어 떨어지지 않으면  \n",
        "    패딩, 스트라이드값을 조정하여 정수로 나누어 떨어지게 해야함\n"
      ]
    },
    {
      "cell_type": "markdown",
      "metadata": {
        "id": "1x4UoMbF8jJ9"
      },
      "source": [
        "## 풀링(Pooling)\n",
        "\n",
        "- 필터(커널) 사이즈 내에서 특정 값을 추출하는 과정"
      ]
    },
    {
      "cell_type": "markdown",
      "metadata": {
        "id": "lDiaO3XF8oC_"
      },
      "source": [
        "### 맥스 풀링(Max Pooling)\n",
        "- 가장 많이 사용되는 방법\n",
        "\n",
        "- 출력 데이터의 사이즈 계산은 컨볼루션 연산과 동일\n",
        "## $\\quad OH = \\frac{H + 2P - FH}{S} + 1 $ \n",
        "## $\\quad OW = \\frac{W + 2P - FW}{S} + 1 $ \n",
        "\n",
        "- 일반적으로 stride=2, kernel_size=2 를 통해  \n",
        "  **특징맵의 크기를 <u>절반으로 줄이는 역할</u>**\n",
        "\n",
        "- 모델이 물체의 주요한 특징을 학습할 수 있도록 해주며,  \n",
        "  컨볼루션 신경망이 이동 불변성 특성을 가지게 해줌\n",
        "  - 예를 들어, 아래의 그림에서 초록색 사각형 안에 있는  \n",
        "    2와 8의 위치를 바꾼다해도 맥스 풀링 연산은 8을 추출\n",
        "\n",
        "- 모델의 파라미터 개수를 줄여주고, 연산 속도를 빠르게 해줌\n",
        "\n",
        "  <br>\n",
        "\n",
        "  <img src=\"https://cs231n.github.io/assets/cnn/maxpool.jpeg\" width=\"600\">\n",
        "\n",
        "  <sub>출처: https://cs231n.github.io/convolutional-networks/</sub>"
      ]
    },
    {
      "cell_type": "markdown",
      "metadata": {
        "id": "CrvtX4LrkhPI"
      },
      "source": [
        "## Conv1D \n",
        "\n",
        "- 텍스트 분류나 시계열 예측 같은 간단한 문제, 오디오 생성, 기계 번역 등의 문제에서 좋은 성능\n",
        "\n",
        "- 타임스텝의 순서에 민감하지 X\n",
        "\n",
        "\n",
        "- 2D Convolution\n",
        "  - 지역적 특징을 인식\n",
        "\n",
        "  <img src=\"https://missinglink.ai/wp-content/uploads/2019/03/2D-convolutional-example_2x-700x584.png\" width=\"500\">\n",
        "\n",
        "- 1D Convolution\n",
        "  - 문맥을 인식\n",
        "\n",
        "  <img src=\"https://missinglink.ai/wp-content/uploads/2019/03/1D-convolutional-example_2x.png\" width=\"500\">\n",
        "\n",
        "  <sub>출처: https://missinglink.ai/guides/keras/keras-conv1d-working-1d-convolutional-neural-networks-keras/</sub>"
      ]
    },
    {
      "cell_type": "markdown",
      "metadata": {
        "id": "aJNAI-aYnDuc"
      },
      "source": [
        "### Conv1D Layer\n",
        "- 입력: `(batch_size, timesteps, channels)`\n",
        "\n",
        "- 출력: `(batch_size, timesteps, filters)`\n",
        "\n",
        "- 필터의 사이즈가 커져도 모델이 급격히 증가하지 않기 때문에 다양한 크기를 사용할 수 있음\n",
        "- 데이터의 품질이 좋으면 굳이 크기를 달리하여 여러 개를 사용하지 않아도 될 수도 있음\n",
        "- 문맥을 이해하는데 conv2d보다는 conv1d가 좋음"
      ]
    },
    {
      "cell_type": "markdown",
      "metadata": {
        "id": "ADJZHPLJqTZa"
      },
      "source": [
        "### MaxPooling1D Layer\n",
        "- 다운 샘플링 효과\n",
        "\n",
        "- 단지 1차원형태로 바뀐 것 뿐"
      ]
    },
    {
      "cell_type": "markdown",
      "metadata": {
        "id": "wirZzwYJrNll"
      },
      "source": [
        "### GlobalMaxPooling Layer\n",
        "- 배치차원을 제외하고 2차원 형태를 1차원 형태로 바꾸어주는 레이어\n",
        "\n",
        "- Flatten layer로 대신 사용가능"
      ]
    },
    {
      "cell_type": "markdown",
      "metadata": {
        "id": "YQY_1IL9nQs2"
      },
      "source": [
        "## IMDB 데이터"
      ]
    },
    {
      "cell_type": "markdown",
      "metadata": {
        "id": "pl4Eu32qnUES"
      },
      "source": [
        "### 데이터 로드 및 전처리"
      ]
    },
    {
      "cell_type": "code",
      "metadata": {
        "id": "WcG-Hiltklbe"
      },
      "source": [
        "from tensorflow.keras.datasets import imdb\n",
        "from tensorflow.keras.preprocessing.sequence import pad_sequences\n",
        "from tensorflow.keras.models import Sequential\n",
        "from tensorflow.keras.optimizers import RMSprop\n",
        "from tensorflow.keras.layers import Dense, Embedding, Conv1D, MaxPooling1D, GlobalMaxPool1D"
      ],
      "execution_count": 1,
      "outputs": []
    },
    {
      "cell_type": "code",
      "metadata": {
        "id": "GGYaNT8hnec5",
        "colab": {
          "base_uri": "https://localhost:8080/"
        },
        "outputId": "c7bf8040-2763-4792-ae80-d34de5f0a759"
      },
      "source": [
        "num_words = 10000\n",
        "max_len = 500\n",
        "batch_size = 32\n",
        "\n",
        "(input_train, y_train), (input_test, y_test) = imdb.load_data(num_words=num_words)\n",
        "\n",
        "print(len(input_train))\n",
        "print(len(input_test))"
      ],
      "execution_count": 2,
      "outputs": [
        {
          "output_type": "stream",
          "name": "stdout",
          "text": [
            "Downloading data from https://storage.googleapis.com/tensorflow/tf-keras-datasets/imdb.npz\n",
            "17465344/17464789 [==============================] - 0s 0us/step\n",
            "17473536/17464789 [==============================] - 0s 0us/step\n",
            "25000\n",
            "25000\n"
          ]
        }
      ]
    },
    {
      "cell_type": "code",
      "metadata": {
        "id": "nQBzp3ownpEK",
        "colab": {
          "base_uri": "https://localhost:8080/"
        },
        "outputId": "fd0327e8-970c-4c73-f2b5-3f39637f66e1"
      },
      "source": [
        "pad_x_train = pad_sequences(input_train, maxlen=max_len)\n",
        "pad_x_test = pad_sequences(input_test, maxlen=max_len)\n",
        "\n",
        "print('base', input_train.shape, 'pad',pad_x_train.shape)\n",
        "print('base', input_test.shape,'pad',pad_x_test.shape)"
      ],
      "execution_count": 3,
      "outputs": [
        {
          "output_type": "stream",
          "name": "stdout",
          "text": [
            "base (25000,) pad (25000, 500)\n",
            "base (25000,) pad (25000, 500)\n"
          ]
        }
      ]
    },
    {
      "cell_type": "markdown",
      "metadata": {
        "id": "j3E0hYiHoBO0"
      },
      "source": [
        "### 모델 구성"
      ]
    },
    {
      "cell_type": "code",
      "metadata": {
        "id": "PvKPr7N6nuHr"
      },
      "source": [
        "def build_model():\n",
        "  model = Sequential()\n",
        "\n",
        "  model.add(Embedding(input_dim=num_words, output_dim=32, input_length=max_len))\n",
        "  model.add(Conv1D(32, 7, activation='relu'))\n",
        "  model.add(MaxPooling1D(7))\n",
        "  model.add(Conv1D(32, 5, activation='relu'))\n",
        "  model.add(MaxPooling1D(5))\n",
        "  model.add(GlobalMaxPool1D())\n",
        "  model.add(Dense(1, activation='sigmoid'))\n",
        "\n",
        "  model.compile(optimizer=RMSprop(learning_rate=1e-4),\n",
        "                loss = 'binary_crossentropy',\n",
        "                metrics=['accuracy'])\n",
        "  \n",
        "  return model"
      ],
      "execution_count": 9,
      "outputs": []
    },
    {
      "cell_type": "code",
      "metadata": {
        "id": "wwWZ47NHolB6",
        "colab": {
          "base_uri": "https://localhost:8080/"
        },
        "outputId": "4cd37ed4-8963-499a-adad-cacf9a061602"
      },
      "source": [
        "model = build_model()\n",
        "model.summary()"
      ],
      "execution_count": 10,
      "outputs": [
        {
          "output_type": "stream",
          "name": "stdout",
          "text": [
            "Model: \"sequential_1\"\n",
            "_________________________________________________________________\n",
            " Layer (type)                Output Shape              Param #   \n",
            "=================================================================\n",
            " embedding_1 (Embedding)     (None, 500, 32)           320000    \n",
            "                                                                 \n",
            " conv1d_2 (Conv1D)           (None, 494, 32)           7200      \n",
            "                                                                 \n",
            " max_pooling1d_2 (MaxPooling  (None, 70, 32)           0         \n",
            " 1D)                                                             \n",
            "                                                                 \n",
            " conv1d_3 (Conv1D)           (None, 66, 32)            5152      \n",
            "                                                                 \n",
            " max_pooling1d_3 (MaxPooling  (None, 13, 32)           0         \n",
            " 1D)                                                             \n",
            "                                                                 \n",
            " global_max_pooling1d (Globa  (None, 32)               0         \n",
            " lMaxPooling1D)                                                  \n",
            "                                                                 \n",
            " dense_1 (Dense)             (None, 1)                 33        \n",
            "                                                                 \n",
            "=================================================================\n",
            "Total params: 332,385\n",
            "Trainable params: 332,385\n",
            "Non-trainable params: 0\n",
            "_________________________________________________________________\n"
          ]
        }
      ]
    },
    {
      "cell_type": "markdown",
      "metadata": {
        "id": "0qUbPGdmpHpQ"
      },
      "source": [
        "### 모델 학습"
      ]
    },
    {
      "cell_type": "code",
      "metadata": {
        "id": "xcCgjLHvonWB",
        "colab": {
          "base_uri": "https://localhost:8080/"
        },
        "outputId": "a1ed326c-fa1e-42a4-ccda-c338f58c595e"
      },
      "source": [
        "history = model.fit(pad_x_train, y_train,\n",
        "                    batch_size=128, epochs=50,\n",
        "                    validation_split=0.2)"
      ],
      "execution_count": 11,
      "outputs": [
        {
          "output_type": "stream",
          "name": "stdout",
          "text": [
            "Epoch 1/50\n",
            "157/157 [==============================] - 15s 11ms/step - loss: 0.6927 - accuracy: 0.5207 - val_loss: 0.6923 - val_accuracy: 0.5262\n",
            "Epoch 2/50\n",
            "157/157 [==============================] - 1s 9ms/step - loss: 0.6904 - accuracy: 0.6113 - val_loss: 0.6910 - val_accuracy: 0.5856\n",
            "Epoch 3/50\n",
            "157/157 [==============================] - 1s 9ms/step - loss: 0.6872 - accuracy: 0.6652 - val_loss: 0.6879 - val_accuracy: 0.6306\n",
            "Epoch 4/50\n",
            "157/157 [==============================] - 1s 9ms/step - loss: 0.6804 - accuracy: 0.7322 - val_loss: 0.6780 - val_accuracy: 0.6910\n",
            "Epoch 5/50\n",
            "157/157 [==============================] - 1s 9ms/step - loss: 0.6623 - accuracy: 0.7624 - val_loss: 0.6503 - val_accuracy: 0.7398\n",
            "Epoch 6/50\n",
            "157/157 [==============================] - 1s 9ms/step - loss: 0.6197 - accuracy: 0.7891 - val_loss: 0.5941 - val_accuracy: 0.7830\n",
            "Epoch 7/50\n",
            "157/157 [==============================] - 1s 9ms/step - loss: 0.5470 - accuracy: 0.8151 - val_loss: 0.5143 - val_accuracy: 0.8078\n",
            "Epoch 8/50\n",
            "157/157 [==============================] - 1s 9ms/step - loss: 0.4605 - accuracy: 0.8361 - val_loss: 0.4409 - val_accuracy: 0.8270\n",
            "Epoch 9/50\n",
            "157/157 [==============================] - 1s 9ms/step - loss: 0.3902 - accuracy: 0.8533 - val_loss: 0.3922 - val_accuracy: 0.8388\n",
            "Epoch 10/50\n",
            "157/157 [==============================] - 1s 9ms/step - loss: 0.3432 - accuracy: 0.8656 - val_loss: 0.3656 - val_accuracy: 0.8434\n",
            "Epoch 11/50\n",
            "157/157 [==============================] - 1s 9ms/step - loss: 0.3118 - accuracy: 0.8758 - val_loss: 0.3514 - val_accuracy: 0.8522\n",
            "Epoch 12/50\n",
            "157/157 [==============================] - 1s 9ms/step - loss: 0.2889 - accuracy: 0.8849 - val_loss: 0.3425 - val_accuracy: 0.8548\n",
            "Epoch 13/50\n",
            "157/157 [==============================] - 1s 9ms/step - loss: 0.2710 - accuracy: 0.8921 - val_loss: 0.3359 - val_accuracy: 0.8572\n",
            "Epoch 14/50\n",
            "157/157 [==============================] - 1s 9ms/step - loss: 0.2553 - accuracy: 0.8987 - val_loss: 0.3346 - val_accuracy: 0.8558\n",
            "Epoch 15/50\n",
            "157/157 [==============================] - 1s 9ms/step - loss: 0.2418 - accuracy: 0.9067 - val_loss: 0.3292 - val_accuracy: 0.8592\n",
            "Epoch 16/50\n",
            "157/157 [==============================] - 1s 9ms/step - loss: 0.2294 - accuracy: 0.9128 - val_loss: 0.3297 - val_accuracy: 0.8594\n",
            "Epoch 17/50\n",
            "157/157 [==============================] - 1s 9ms/step - loss: 0.2185 - accuracy: 0.9170 - val_loss: 0.3286 - val_accuracy: 0.8628\n",
            "Epoch 18/50\n",
            "157/157 [==============================] - 1s 9ms/step - loss: 0.2086 - accuracy: 0.9215 - val_loss: 0.3306 - val_accuracy: 0.8620\n",
            "Epoch 19/50\n",
            "157/157 [==============================] - 1s 9ms/step - loss: 0.1990 - accuracy: 0.9245 - val_loss: 0.3306 - val_accuracy: 0.8636\n",
            "Epoch 20/50\n",
            "157/157 [==============================] - 1s 9ms/step - loss: 0.1905 - accuracy: 0.9296 - val_loss: 0.3364 - val_accuracy: 0.8632\n",
            "Epoch 21/50\n",
            "157/157 [==============================] - 1s 9ms/step - loss: 0.1823 - accuracy: 0.9337 - val_loss: 0.3385 - val_accuracy: 0.8632\n",
            "Epoch 22/50\n",
            "157/157 [==============================] - 1s 9ms/step - loss: 0.1747 - accuracy: 0.9380 - val_loss: 0.3367 - val_accuracy: 0.8628\n",
            "Epoch 23/50\n",
            "157/157 [==============================] - 1s 9ms/step - loss: 0.1677 - accuracy: 0.9413 - val_loss: 0.3401 - val_accuracy: 0.8626\n",
            "Epoch 24/50\n",
            "157/157 [==============================] - 1s 9ms/step - loss: 0.1611 - accuracy: 0.9442 - val_loss: 0.3435 - val_accuracy: 0.8640\n",
            "Epoch 25/50\n",
            "157/157 [==============================] - 1s 9ms/step - loss: 0.1545 - accuracy: 0.9474 - val_loss: 0.3476 - val_accuracy: 0.8626\n",
            "Epoch 26/50\n",
            "157/157 [==============================] - 1s 9ms/step - loss: 0.1488 - accuracy: 0.9500 - val_loss: 0.3511 - val_accuracy: 0.8632\n",
            "Epoch 27/50\n",
            "157/157 [==============================] - 1s 9ms/step - loss: 0.1425 - accuracy: 0.9522 - val_loss: 0.3543 - val_accuracy: 0.8644\n",
            "Epoch 28/50\n",
            "157/157 [==============================] - 1s 9ms/step - loss: 0.1374 - accuracy: 0.9536 - val_loss: 0.3587 - val_accuracy: 0.8658\n",
            "Epoch 29/50\n",
            "157/157 [==============================] - 1s 9ms/step - loss: 0.1322 - accuracy: 0.9560 - val_loss: 0.3629 - val_accuracy: 0.8650\n",
            "Epoch 30/50\n",
            "157/157 [==============================] - 1s 9ms/step - loss: 0.1275 - accuracy: 0.9572 - val_loss: 0.3676 - val_accuracy: 0.8630\n",
            "Epoch 31/50\n",
            "157/157 [==============================] - 1s 9ms/step - loss: 0.1224 - accuracy: 0.9592 - val_loss: 0.3737 - val_accuracy: 0.8632\n",
            "Epoch 32/50\n",
            "157/157 [==============================] - 1s 9ms/step - loss: 0.1181 - accuracy: 0.9607 - val_loss: 0.3777 - val_accuracy: 0.8640\n",
            "Epoch 33/50\n",
            "157/157 [==============================] - 1s 9ms/step - loss: 0.1138 - accuracy: 0.9622 - val_loss: 0.3837 - val_accuracy: 0.8612\n",
            "Epoch 34/50\n",
            "157/157 [==============================] - 1s 9ms/step - loss: 0.1095 - accuracy: 0.9646 - val_loss: 0.3877 - val_accuracy: 0.8620\n",
            "Epoch 35/50\n",
            "157/157 [==============================] - 1s 9ms/step - loss: 0.1056 - accuracy: 0.9662 - val_loss: 0.3948 - val_accuracy: 0.8604\n",
            "Epoch 36/50\n",
            "157/157 [==============================] - 1s 9ms/step - loss: 0.1018 - accuracy: 0.9680 - val_loss: 0.4037 - val_accuracy: 0.8616\n",
            "Epoch 37/50\n",
            "157/157 [==============================] - 1s 9ms/step - loss: 0.0983 - accuracy: 0.9693 - val_loss: 0.4060 - val_accuracy: 0.8590\n",
            "Epoch 38/50\n",
            "157/157 [==============================] - 1s 9ms/step - loss: 0.0945 - accuracy: 0.9704 - val_loss: 0.4114 - val_accuracy: 0.8618\n",
            "Epoch 39/50\n",
            "157/157 [==============================] - 1s 9ms/step - loss: 0.0911 - accuracy: 0.9719 - val_loss: 0.4152 - val_accuracy: 0.8606\n",
            "Epoch 40/50\n",
            "157/157 [==============================] - 1s 9ms/step - loss: 0.0877 - accuracy: 0.9730 - val_loss: 0.4203 - val_accuracy: 0.8596\n",
            "Epoch 41/50\n",
            "157/157 [==============================] - 1s 9ms/step - loss: 0.0846 - accuracy: 0.9746 - val_loss: 0.4275 - val_accuracy: 0.8580\n",
            "Epoch 42/50\n",
            "157/157 [==============================] - 1s 9ms/step - loss: 0.0813 - accuracy: 0.9760 - val_loss: 0.4379 - val_accuracy: 0.8602\n",
            "Epoch 43/50\n",
            "157/157 [==============================] - 1s 9ms/step - loss: 0.0784 - accuracy: 0.9763 - val_loss: 0.4404 - val_accuracy: 0.8592\n",
            "Epoch 44/50\n",
            "157/157 [==============================] - 1s 9ms/step - loss: 0.0754 - accuracy: 0.9787 - val_loss: 0.4481 - val_accuracy: 0.8570\n",
            "Epoch 45/50\n",
            "157/157 [==============================] - 1s 9ms/step - loss: 0.0727 - accuracy: 0.9785 - val_loss: 0.4521 - val_accuracy: 0.8598\n",
            "Epoch 46/50\n",
            "157/157 [==============================] - 1s 9ms/step - loss: 0.0700 - accuracy: 0.9804 - val_loss: 0.4600 - val_accuracy: 0.8592\n",
            "Epoch 47/50\n",
            "157/157 [==============================] - 1s 9ms/step - loss: 0.0670 - accuracy: 0.9808 - val_loss: 0.4666 - val_accuracy: 0.8582\n",
            "Epoch 48/50\n",
            "157/157 [==============================] - 1s 9ms/step - loss: 0.0646 - accuracy: 0.9822 - val_loss: 0.4722 - val_accuracy: 0.8566\n",
            "Epoch 49/50\n",
            "157/157 [==============================] - 1s 9ms/step - loss: 0.0622 - accuracy: 0.9833 - val_loss: 0.4797 - val_accuracy: 0.8568\n",
            "Epoch 50/50\n",
            "157/157 [==============================] - 1s 9ms/step - loss: 0.0598 - accuracy: 0.9844 - val_loss: 0.4880 - val_accuracy: 0.8584\n"
          ]
        }
      ]
    },
    {
      "cell_type": "markdown",
      "metadata": {
        "id": "n2yEkawIph4C"
      },
      "source": [
        "### 시각화"
      ]
    },
    {
      "cell_type": "code",
      "metadata": {
        "id": "BfKC0UOkpPmP",
        "colab": {
          "base_uri": "https://localhost:8080/",
          "height": 301
        },
        "outputId": "b2da73c1-c72d-43fe-f31c-d87b62c47e07"
      },
      "source": [
        "import matplotlib.pyplot as plt\n",
        "\n",
        "loss = history.history['loss']\n",
        "val_loss = history.history['val_loss']\n",
        "acc = history.history['accuracy']\n",
        "val_acc = history.history['val_accuracy']\n",
        "\n",
        "epochs = range(1, len(loss) + 1)\n",
        "\n",
        "plt.plot(epochs, loss, 'b--', label='training_loss')\n",
        "plt.plot(epochs, val_loss, 'b', label='validation_loss')\n",
        "plt.plot(epochs, acc, 'r:', label='training_accuracy')\n",
        "plt.plot(epochs, val_acc, 'r', label='validation_accuracy')\n",
        "\n",
        "plt.grid()\n",
        "plt.legend()\n",
        "\n",
        "plt.figure()"
      ],
      "execution_count": 13,
      "outputs": [
        {
          "output_type": "execute_result",
          "data": {
            "text/plain": [
              "<Figure size 432x288 with 0 Axes>"
            ]
          },
          "metadata": {},
          "execution_count": 13
        },
        {
          "output_type": "display_data",
          "data": {
            "text/plain": [
              "<Figure size 432x288 with 1 Axes>"
            ],
            "image/png": "[encoded data removed]"
          },
          "metadata": {
            "needs_background": "light"
          }
        },
        {
          "output_type": "display_data",
          "data": {
            "text/plain": [
              "<Figure size 432x288 with 0 Axes>"
            ]
          },
          "metadata": {}
        }
      ]
    },
    {
      "cell_type": "code",
      "source": [
        "model.evaluate(pad_x_test, y_test) #loss값, accuracy값"
      ],
      "metadata": {
        "colab": {
          "base_uri": "https://localhost:8080/"
        },
        "id": "JdO2L8h5ooe0",
        "outputId": "b2833c53-595e-4dbf-8cfc-b8b6140896ab"
      },
      "execution_count": 14,
      "outputs": [
        {
          "output_type": "stream",
          "name": "stdout",
          "text": [
            "782/782 [==============================] - 3s 4ms/step - loss: 0.5225 - accuracy: 0.8359\n"
          ]
        },
        {
          "output_type": "execute_result",
          "data": {
            "text/plain": [
              "[0.5225457549095154, 0.8358799815177917]"
            ]
          },
          "metadata": {},
          "execution_count": 14
        }
      ]
    },
    {
      "cell_type": "markdown",
      "metadata": {
        "id": "Oz_Iu_VHV7Z5"
      },
      "source": [
        "## Reuters 데이터"
      ]
    },
    {
      "cell_type": "markdown",
      "metadata": {
        "id": "4_Q6p0nhV7Z6"
      },
      "source": [
        "### 데이터 로드 및 전처리"
      ]
    },
    {
      "cell_type": "code",
      "metadata": {
        "id": "waEmkCowV7Z7"
      },
      "source": [
        "from tensorflow.keras.datasets import reuters"
      ],
      "execution_count": 15,
      "outputs": []
    },
    {
      "cell_type": "code",
      "metadata": {
        "id": "dggcmeJ4V7Z_",
        "colab": {
          "base_uri": "https://localhost:8080/"
        },
        "outputId": "5830faa1-1748-4e07-89ae-3cbb427b4939"
      },
      "source": [
        "num_words = 10000\n",
        "max_len = 500\n",
        "batch_size = 32\n",
        "\n",
        "(input_train, y_train), (input_test, y_test) = reuters.load_data(num_words=num_words)\n",
        "\n",
        "print(len(input_train))\n",
        "print(len(input_test))"
      ],
      "execution_count": 16,
      "outputs": [
        {
          "output_type": "stream",
          "name": "stdout",
          "text": [
            "Downloading data from https://storage.googleapis.com/tensorflow/tf-keras-datasets/reuters.npz\n",
            "2113536/2110848 [==============================] - 0s 0us/step\n",
            "2121728/2110848 [==============================] - 0s 0us/step\n",
            "8982\n",
            "2246\n"
          ]
        }
      ]
    },
    {
      "cell_type": "code",
      "metadata": {
        "id": "EBOJIgbgV7aB",
        "colab": {
          "base_uri": "https://localhost:8080/"
        },
        "outputId": "9f2597b7-d168-4c6d-b970-8606c963f85d"
      },
      "source": [
        "pad_x_train = pad_sequences(input_train, maxlen=max_len)\n",
        "pad_x_test = pad_sequences(input_test, maxlen=max_len)\n",
        "\n",
        "print('base', input_train.shape, 'pad',pad_x_train.shape)\n",
        "print('base', input_test.shape,'pad',pad_x_test.shape)"
      ],
      "execution_count": 17,
      "outputs": [
        {
          "output_type": "stream",
          "name": "stdout",
          "text": [
            "base (8982,) pad (8982, 500)\n",
            "base (2246,) pad (2246, 500)\n"
          ]
        }
      ]
    },
    {
      "cell_type": "markdown",
      "metadata": {
        "id": "xehgNec0V7aE"
      },
      "source": [
        "### 모델 구성"
      ]
    },
    {
      "cell_type": "code",
      "metadata": {
        "id": "RTV2qF8_V7aE"
      },
      "source": [
        "def build_model():\n",
        "  model = Sequential()\n",
        "\n",
        "  model.add(Embedding(input_dim=num_words, output_dim=32, input_length=max_len))\n",
        "  model.add(Conv1D(128, 7, activation='relu'))\n",
        "  model.add(MaxPooling1D(7))\n",
        "  model.add(Conv1D(128, 5, activation='relu'))\n",
        "  model.add(MaxPooling1D(5))\n",
        "  model.add(GlobalMaxPool1D())\n",
        "  model.add(Dense(46, activation='softmax')) #이진분류 sigmoid, 다중분류 softmax => 분류 클래스 수 46개\n",
        "\n",
        "  model.compile(optimizer='adam',\n",
        "                loss = 'sparse_categorical_crossentropy',\n",
        "                metrics=['accuracy'])\n",
        "  \n",
        "  return model"
      ],
      "execution_count": 27,
      "outputs": []
    },
    {
      "cell_type": "code",
      "metadata": {
        "id": "48n2W3xpV7aG",
        "colab": {
          "base_uri": "https://localhost:8080/"
        },
        "outputId": "192263d3-9bcc-477e-90ea-d18cb0e1893e"
      },
      "source": [
        "model = build_model()\n",
        "model.summary()"
      ],
      "execution_count": 28,
      "outputs": [
        {
          "output_type": "stream",
          "name": "stdout",
          "text": [
            "Model: \"sequential_4\"\n",
            "_________________________________________________________________\n",
            " Layer (type)                Output Shape              Param #   \n",
            "=================================================================\n",
            " embedding_4 (Embedding)     (None, 500, 32)           320000    \n",
            "                                                                 \n",
            " conv1d_8 (Conv1D)           (None, 494, 128)          28800     \n",
            "                                                                 \n",
            " max_pooling1d_8 (MaxPooling  (None, 70, 128)          0         \n",
            " 1D)                                                             \n",
            "                                                                 \n",
            " conv1d_9 (Conv1D)           (None, 66, 128)           82048     \n",
            "                                                                 \n",
            " max_pooling1d_9 (MaxPooling  (None, 13, 128)          0         \n",
            " 1D)                                                             \n",
            "                                                                 \n",
            " global_max_pooling1d_3 (Glo  (None, 128)              0         \n",
            " balMaxPooling1D)                                                \n",
            "                                                                 \n",
            " dense_4 (Dense)             (None, 46)                5934      \n",
            "                                                                 \n",
            "=================================================================\n",
            "Total params: 436,782\n",
            "Trainable params: 436,782\n",
            "Non-trainable params: 0\n",
            "_________________________________________________________________\n"
          ]
        }
      ]
    },
    {
      "cell_type": "markdown",
      "metadata": {
        "id": "WeRmu5WMV7aI"
      },
      "source": [
        "### 모델 학습"
      ]
    },
    {
      "cell_type": "code",
      "metadata": {
        "id": "BGVdYyIrV7aJ",
        "colab": {
          "base_uri": "https://localhost:8080/"
        },
        "outputId": "26aa7a5e-7550-482e-d183-da6bb40be868"
      },
      "source": [
        "history = model.fit(pad_x_train, y_train,\n",
        "                    batch_size=128, epochs=50,\n",
        "                    validation_split=0.2)"
      ],
      "execution_count": 29,
      "outputs": [
        {
          "output_type": "stream",
          "name": "stdout",
          "text": [
            "Epoch 1/50\n",
            "57/57 [==============================] - 2s 19ms/step - loss: 2.5537 - accuracy: 0.3801 - val_loss: 1.9892 - val_accuracy: 0.4981\n",
            "Epoch 2/50\n",
            "57/57 [==============================] - 1s 12ms/step - loss: 1.8220 - accuracy: 0.5254 - val_loss: 1.6939 - val_accuracy: 0.5487\n",
            "Epoch 3/50\n",
            "57/57 [==============================] - 1s 14ms/step - loss: 1.5995 - accuracy: 0.5825 - val_loss: 1.5811 - val_accuracy: 0.5927\n",
            "Epoch 4/50\n",
            "57/57 [==============================] - 1s 12ms/step - loss: 1.3893 - accuracy: 0.6525 - val_loss: 1.4511 - val_accuracy: 0.6566\n",
            "Epoch 5/50\n",
            "57/57 [==============================] - 1s 12ms/step - loss: 1.1894 - accuracy: 0.7020 - val_loss: 1.3979 - val_accuracy: 0.6711\n",
            "Epoch 6/50\n",
            "57/57 [==============================] - 1s 12ms/step - loss: 1.0231 - accuracy: 0.7374 - val_loss: 1.3825 - val_accuracy: 0.6873\n",
            "Epoch 7/50\n",
            "57/57 [==============================] - 1s 12ms/step - loss: 0.8928 - accuracy: 0.7656 - val_loss: 1.4053 - val_accuracy: 0.6956\n",
            "Epoch 8/50\n",
            "57/57 [==============================] - 1s 12ms/step - loss: 0.7751 - accuracy: 0.8007 - val_loss: 1.4492 - val_accuracy: 0.6939\n",
            "Epoch 9/50\n",
            "57/57 [==============================] - 1s 12ms/step - loss: 0.6578 - accuracy: 0.8309 - val_loss: 1.5264 - val_accuracy: 0.6995\n",
            "Epoch 10/50\n",
            "57/57 [==============================] - 1s 13ms/step - loss: 0.5570 - accuracy: 0.8548 - val_loss: 1.5661 - val_accuracy: 0.7006\n",
            "Epoch 11/50\n",
            "57/57 [==============================] - 1s 12ms/step - loss: 0.4755 - accuracy: 0.8795 - val_loss: 1.6785 - val_accuracy: 0.7056\n",
            "Epoch 12/50\n",
            "57/57 [==============================] - 1s 12ms/step - loss: 0.4046 - accuracy: 0.8983 - val_loss: 1.7135 - val_accuracy: 0.7062\n",
            "Epoch 13/50\n",
            "57/57 [==============================] - 1s 12ms/step - loss: 0.3474 - accuracy: 0.9123 - val_loss: 1.7513 - val_accuracy: 0.7006\n",
            "Epoch 14/50\n",
            "57/57 [==============================] - 1s 12ms/step - loss: 0.2951 - accuracy: 0.9289 - val_loss: 1.8328 - val_accuracy: 0.7112\n",
            "Epoch 15/50\n",
            "57/57 [==============================] - 1s 13ms/step - loss: 0.2520 - accuracy: 0.9429 - val_loss: 1.9225 - val_accuracy: 0.6978\n",
            "Epoch 16/50\n",
            "57/57 [==============================] - 1s 12ms/step - loss: 0.2210 - accuracy: 0.9493 - val_loss: 1.9359 - val_accuracy: 0.7101\n",
            "Epoch 17/50\n",
            "57/57 [==============================] - 1s 12ms/step - loss: 0.1891 - accuracy: 0.9553 - val_loss: 1.9827 - val_accuracy: 0.7034\n",
            "Epoch 18/50\n",
            "57/57 [==============================] - 1s 12ms/step - loss: 0.1828 - accuracy: 0.9564 - val_loss: 2.0310 - val_accuracy: 0.7117\n",
            "Epoch 19/50\n",
            "57/57 [==============================] - 1s 12ms/step - loss: 0.1671 - accuracy: 0.9587 - val_loss: 2.0610 - val_accuracy: 0.6950\n",
            "Epoch 20/50\n",
            "57/57 [==============================] - 1s 14ms/step - loss: 0.1558 - accuracy: 0.9599 - val_loss: 2.1560 - val_accuracy: 0.7001\n",
            "Epoch 21/50\n",
            "57/57 [==============================] - 1s 12ms/step - loss: 0.1446 - accuracy: 0.9606 - val_loss: 2.1064 - val_accuracy: 0.7045\n",
            "Epoch 22/50\n",
            "57/57 [==============================] - 1s 12ms/step - loss: 0.1489 - accuracy: 0.9603 - val_loss: 2.1195 - val_accuracy: 0.6984\n",
            "Epoch 23/50\n",
            "57/57 [==============================] - 1s 12ms/step - loss: 0.1423 - accuracy: 0.9633 - val_loss: 2.0826 - val_accuracy: 0.7017\n",
            "Epoch 24/50\n",
            "57/57 [==============================] - 1s 12ms/step - loss: 0.1378 - accuracy: 0.9626 - val_loss: 2.1545 - val_accuracy: 0.6945\n",
            "Epoch 25/50\n",
            "57/57 [==============================] - 1s 12ms/step - loss: 0.1352 - accuracy: 0.9624 - val_loss: 2.1002 - val_accuracy: 0.7062\n",
            "Epoch 26/50\n",
            "57/57 [==============================] - 1s 12ms/step - loss: 0.1214 - accuracy: 0.9652 - val_loss: 2.1436 - val_accuracy: 0.7051\n",
            "Epoch 27/50\n",
            "57/57 [==============================] - 1s 14ms/step - loss: 0.1224 - accuracy: 0.9649 - val_loss: 2.1281 - val_accuracy: 0.7034\n",
            "Epoch 28/50\n",
            "57/57 [==============================] - 1s 12ms/step - loss: 0.1312 - accuracy: 0.9621 - val_loss: 2.1576 - val_accuracy: 0.7051\n",
            "Epoch 29/50\n",
            "57/57 [==============================] - 1s 14ms/step - loss: 0.1157 - accuracy: 0.9640 - val_loss: 2.1516 - val_accuracy: 0.7034\n",
            "Epoch 30/50\n",
            "57/57 [==============================] - 1s 12ms/step - loss: 0.1154 - accuracy: 0.9633 - val_loss: 2.1250 - val_accuracy: 0.7051\n",
            "Epoch 31/50\n",
            "57/57 [==============================] - 1s 12ms/step - loss: 0.1191 - accuracy: 0.9640 - val_loss: 2.1493 - val_accuracy: 0.7012\n",
            "Epoch 32/50\n",
            "57/57 [==============================] - 1s 12ms/step - loss: 0.1113 - accuracy: 0.9649 - val_loss: 2.1006 - val_accuracy: 0.6995\n",
            "Epoch 33/50\n",
            "57/57 [==============================] - 1s 12ms/step - loss: 0.1086 - accuracy: 0.9645 - val_loss: 2.1026 - val_accuracy: 0.7051\n",
            "Epoch 34/50\n",
            "57/57 [==============================] - 1s 14ms/step - loss: 0.1005 - accuracy: 0.9653 - val_loss: 2.1057 - val_accuracy: 0.7112\n",
            "Epoch 35/50\n",
            "57/57 [==============================] - 1s 12ms/step - loss: 0.1022 - accuracy: 0.9652 - val_loss: 2.0992 - val_accuracy: 0.7056\n",
            "Epoch 36/50\n",
            "57/57 [==============================] - 1s 13ms/step - loss: 0.1017 - accuracy: 0.9666 - val_loss: 2.1642 - val_accuracy: 0.7090\n",
            "Epoch 37/50\n",
            "57/57 [==============================] - 1s 12ms/step - loss: 0.1003 - accuracy: 0.9649 - val_loss: 2.0922 - val_accuracy: 0.7117\n",
            "Epoch 38/50\n",
            "57/57 [==============================] - 1s 12ms/step - loss: 0.0954 - accuracy: 0.9644 - val_loss: 2.1142 - val_accuracy: 0.7095\n",
            "Epoch 39/50\n",
            "57/57 [==============================] - 1s 12ms/step - loss: 0.1019 - accuracy: 0.9635 - val_loss: 2.0541 - val_accuracy: 0.7095\n",
            "Epoch 40/50\n",
            "57/57 [==============================] - 1s 12ms/step - loss: 0.0922 - accuracy: 0.9665 - val_loss: 2.0889 - val_accuracy: 0.7056\n",
            "Epoch 41/50\n",
            "57/57 [==============================] - 1s 12ms/step - loss: 0.0959 - accuracy: 0.9665 - val_loss: 2.1362 - val_accuracy: 0.7001\n",
            "Epoch 42/50\n",
            "57/57 [==============================] - 1s 13ms/step - loss: 0.0963 - accuracy: 0.9665 - val_loss: 2.1605 - val_accuracy: 0.7162\n",
            "Epoch 43/50\n",
            "57/57 [==============================] - 1s 13ms/step - loss: 0.1028 - accuracy: 0.9656 - val_loss: 2.1727 - val_accuracy: 0.6956\n",
            "Epoch 44/50\n",
            "57/57 [==============================] - 1s 12ms/step - loss: 0.1042 - accuracy: 0.9651 - val_loss: 2.1888 - val_accuracy: 0.7012\n",
            "Epoch 45/50\n",
            "57/57 [==============================] - 1s 12ms/step - loss: 0.0977 - accuracy: 0.9656 - val_loss: 2.0517 - val_accuracy: 0.7101\n",
            "Epoch 46/50\n",
            "57/57 [==============================] - 1s 12ms/step - loss: 0.1030 - accuracy: 0.9637 - val_loss: 2.1081 - val_accuracy: 0.7117\n",
            "Epoch 47/50\n",
            "57/57 [==============================] - 1s 12ms/step - loss: 0.1057 - accuracy: 0.9648 - val_loss: 2.1442 - val_accuracy: 0.7073\n",
            "Epoch 48/50\n",
            "57/57 [==============================] - 1s 13ms/step - loss: 0.1045 - accuracy: 0.9640 - val_loss: 2.0670 - val_accuracy: 0.7112\n",
            "Epoch 49/50\n",
            "57/57 [==============================] - 1s 12ms/step - loss: 0.0941 - accuracy: 0.9649 - val_loss: 2.0939 - val_accuracy: 0.7101\n",
            "Epoch 50/50\n",
            "57/57 [==============================] - 1s 12ms/step - loss: 0.0893 - accuracy: 0.9638 - val_loss: 2.0622 - val_accuracy: 0.7062\n"
          ]
        }
      ]
    },
    {
      "cell_type": "markdown",
      "metadata": {
        "id": "ao8NNj2SV7aL"
      },
      "source": [
        "### 시각화"
      ]
    },
    {
      "cell_type": "code",
      "metadata": {
        "id": "D_CisVtyV7aL",
        "colab": {
          "base_uri": "https://localhost:8080/",
          "height": 301
        },
        "outputId": "54ff7db9-6c7c-452e-ced2-52fde1843ab1"
      },
      "source": [
        "import matplotlib.pyplot as plt\n",
        "\n",
        "loss = history.history['loss']\n",
        "val_loss = history.history['val_loss']\n",
        "acc = history.history['accuracy']\n",
        "val_acc = history.history['val_accuracy']\n",
        "\n",
        "epochs = range(1, len(loss) + 1)\n",
        "\n",
        "plt.plot(epochs, loss, 'b--', label='training_loss')\n",
        "plt.plot(epochs, val_loss, 'b', label='validation_loss')\n",
        "plt.plot(epochs, acc, 'r:', label='training_accuracy')\n",
        "plt.plot(epochs, val_acc, 'r', label='validation_accuracy')\n",
        "\n",
        "plt.grid()\n",
        "plt.legend()\n",
        "\n",
        "plt.figure()"
      ],
      "execution_count": 30,
      "outputs": [
        {
          "output_type": "execute_result",
          "data": {
            "text/plain": [
              "<Figure size 432x288 with 0 Axes>"
            ]
          },
          "metadata": {},
          "execution_count": 30
        },
        {
          "output_type": "display_data",
          "data": {
            "text/plain": [
              "<Figure size 432x288 with 1 Axes>"
            ],
            "image/png": "[encoded data removed]"
          },
          "metadata": {
            "needs_background": "light"
          }
        },
        {
          "output_type": "display_data",
          "data": {
            "text/plain": [
              "<Figure size 432x288 with 0 Axes>"
            ]
          },
          "metadata": {}
        }
      ]
    },
    {
      "cell_type": "code",
      "metadata": {
        "id": "NCsNsoiUV7aP",
        "colab": {
          "base_uri": "https://localhost:8080/"
        },
        "outputId": "362b15f9-2451-4735-bbf5-a1fa82de8c71"
      },
      "source": [
        "model.evaluate(pad_x_test, y_test) #loss값, accuracy값"
      ],
      "execution_count": 31,
      "outputs": [
        {
          "output_type": "stream",
          "name": "stdout",
          "text": [
            "71/71 [==============================] - 0s 4ms/step - loss: 2.0112 - accuracy: 0.7070\n"
          ]
        },
        {
          "output_type": "execute_result",
          "data": {
            "text/plain": [
              "[2.011162042617798, 0.707034707069397]"
            ]
          },
          "metadata": {},
          "execution_count": 31
        }
      ]
    }
  ]
}